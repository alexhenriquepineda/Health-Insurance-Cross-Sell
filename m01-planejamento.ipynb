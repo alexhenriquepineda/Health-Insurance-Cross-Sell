{
 "cells": [
  {
   "cell_type": "markdown",
   "id": "1123f9aa",
   "metadata": {},
   "source": [
    "# PLANEJAMENTO"
   ]
  },
  {
   "cell_type": "markdown",
   "id": "116218d0",
   "metadata": {},
   "source": [
    "## A Empresa Insurance All"
   ]
  },
  {
   "cell_type": "markdown",
   "id": "5620a78f",
   "metadata": {},
   "source": [
    "Disclaimer: O Contexto a seguir, é completamente fictício, a empresa, o contexto, o CEO, as perguntas de negócio existem somente na minha imaginação. \n",
    "\n",
    "A Insurance All é uma empresa que fornece seguro de saúde para seus clientes e o time de produtos está analisando a possibilidade de oferecer aos assegurados, um novo produto: Um seguro de automóveis.\n",
    "\n",
    "Assim como o seguro de saúde, os clientes desse novo plano de seguro de automóveis precisam pagar um valor anualmente à Insurance All para obter um valor assegurado pela empresa, destinado aos custos de um eventual acidente ou dano ao veículo.\n",
    "\n",
    "A Insurance All fez uma pesquisa com cerca de 380 mil clientes sobre o interesse em aderir a um novo produto de seguro de automóveis, no ano passado. Todos os clientes demonstraram interesse ou não em adquirir o seguro de automóvel e essas respostas ficaram salvas em um banco de dados junto com outros atributos dos clientes.\n",
    "\n",
    "O time de produtos selecionou 127 mil novos clientes que não responderam a pesquisa para participar de uma campanha, no qual receberão a oferta do novo produto de seguro de automóveis. A oferta será feita pelo time de vendas através de ligações telefônicas.\n",
    "\n",
    "Contudo, o time de vendas tem uma capacidade de realizar 20 mil ligações dentro do período da campanha."
   ]
  },
  {
   "cell_type": "markdown",
   "id": "c5c87ebc",
   "metadata": {},
   "source": [
    "## O Desafio"
   ]
  },
  {
   "cell_type": "markdown",
   "id": "47936026",
   "metadata": {},
   "source": [
    "Nesse contexto, você foi contratado como um consultor de Ciência de Dados para construir um modelo que prediz se o cliente estaria ou não interessado no seguro de automóvel. \n",
    "\n",
    "Com a sua solução, o time de vendas espera conseguir priorizar as pessoas com maior interesse no novo produto e assim, otimizar a campanha realizando apenas contatos aos clientes mais propensos a realizar a compra.\n",
    "\n",
    "Como resultado da sua consultoria, você precisará entregar um relatório contendo algumas análises e respostas às seguintes perguntas:\n",
    "\n",
    "1. Principais Insights sobre os atributos mais relevantes de clientes interessados em adquirir um seguro de automóvel.\n",
    "2. Qual a porcentagem de clientes interessados em adquirir um seguro de automóvel, o time de vendas conseguirá contatar fazendo 20.000 ligações?\n",
    "3. E se a capacidade do time de vendas aumentar para 40.000 ligações, qual a porcentagem de clientes interessados em adquirir um seguro de automóvel o time de vendas conseguirá contatar?\n",
    "4. Quantas ligações o time de vendas precisa fazer para contatar 80% dos clientes interessados em adquirir um seguro de automóvel?"
   ]
  },
  {
   "cell_type": "markdown",
   "id": "7e01fa93",
   "metadata": {},
   "source": [
    "## Dicionário de Dados"
   ]
  },
  {
   "cell_type": "markdown",
   "id": "d0870d37",
   "metadata": {},
   "source": [
    "Id: identificador único do cliente.\n",
    "\n",
    "Gender: gênero do cliente.\n",
    "\n",
    "Age: idade do cliente.\n",
    "\n",
    "Driving License: 0, o cliente não tem permissão para dirigir e 1, o cliente tem para dirigir ( CNH – Carteira Nacional de Habilitação )\n",
    "\n",
    "Region Code: código da região do cliente.\n",
    "\n",
    "Previously Insured: 0, o cliente não tem seguro de automóvel e 1, o cliente já tem seguro de automóvel.\n",
    "\n",
    "Vehicle Age: idade do veículo.\n",
    "\n",
    "Vehicle Damage: 0, cliente nunca teve seu veículo danificado no passado e 1, cliente já teve seu veículo danificado no passado.\n",
    "\n",
    "Anual Premium: quantidade que o cliente pagou à empresa pelo seguro de saúde anual.\n",
    "\n",
    "Policy sales channel: código anônimo para o canal de contato com o cliente.\n",
    "\n",
    "Vintage: número de dias que o cliente se associou à empresa através da compra do seguro de saúde.\n",
    "\n",
    "Response: 0, o cliente não tem interesse e 1, o cliente tem interesse.\n"
   ]
  },
  {
   "cell_type": "markdown",
   "id": "eb17c1a5",
   "metadata": {},
   "source": [
    "## Estudo sobre o Modelo de Negócio"
   ]
  },
  {
   "cell_type": "markdown",
   "id": "59cd0050",
   "metadata": {},
   "source": [
    "Um modelo de negócio descreve a lógica de criação, entrega e captura valor por parte de uma organização.\n",
    "\n",
    "Empresa Seguradora:\n",
    "\n",
    "    Como aumentar o faturamento? \n",
    "        Aumentar o número de vendas\n",
    "        Aumentar o valor do ticket\n",
    "        Aumentar a frequência de compra do cliente ( comprar mais produtos )\n",
    "        \n",
    "    Custos:\n",
    "        Custo da operação (funcionários, ferramentas)\n",
    "        Custo de produção de produto\n",
    "        Custo de aquisição de cliente (CAC)\n",
    "        \n",
    "    Aumentar número de vendas\n",
    "        Up-Sell:\n",
    "            incentivar o cliente a adquirir a versão mais sofisticada do produto (iphone 11 -> 12)\n",
    "            \n",
    "        Cross-Sell:\n",
    "            Vender produtos ou serviços relacionados/complementares -> vender um smartphone e uma case\n",
    "            \n",
    "            \n",
    "     A estratégia de Cross-Sell\n",
    "         Quais clientes deveriam receber a oferta de Cross-Sell -> Calculo da probabilidade de compra\n",
    "         Priorizar clientes que tem maior probabilidade de compra\n",
    "         \n",
    "Planejamento da Solução\n",
    "\n",
    "Full dataset - 381K\n",
    "    Training Data - 305K\n",
    "    Validation Data - 76K\n",
    "    \n",
    "Calcular a probabilidade de compra\n",
    "\n",
    "Teste Data - 127K\n",
    "\n",
    "Calcular a probabilidade de compra\n",
    "            \n",
    "    \n",
    "            \n",
    "            "
   ]
  }
 ],
 "metadata": {
  "kernelspec": {
   "display_name": "Python 3 (ipykernel)",
   "language": "python",
   "name": "python3"
  },
  "language_info": {
   "codemirror_mode": {
    "name": "ipython",
    "version": 3
   },
   "file_extension": ".py",
   "mimetype": "text/x-python",
   "name": "python",
   "nbconvert_exporter": "python",
   "pygments_lexer": "ipython3",
   "version": "3.8.10"
  },
  "toc": {
   "base_numbering": 1,
   "nav_menu": {},
   "number_sections": true,
   "sideBar": true,
   "skip_h1_title": false,
   "title_cell": "Table of Contents",
   "title_sidebar": "Contents",
   "toc_cell": false,
   "toc_position": {},
   "toc_section_display": true,
   "toc_window_display": false
  }
 },
 "nbformat": 4,
 "nbformat_minor": 5
}
