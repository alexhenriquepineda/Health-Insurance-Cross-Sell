{
 "cells": [
  {
   "cell_type": "markdown",
   "id": "1123f9aa",
   "metadata": {},
   "source": [
    "# PLANEJAMENTO"
   ]
  },
  {
   "cell_type": "markdown",
   "id": "d0316c93",
   "metadata": {},
   "source": [
    "## A Empresa Insurance All"
   ]
  },
  {
   "cell_type": "markdown",
   "id": "75e28fa1",
   "metadata": {},
   "source": [
    "Disclaimer: O Contexto a seguir, é completamente fictício, a empresa, o contexto, o CEO, as perguntas de negócio existem somente na minha imaginação. \n",
    "\n",
    "A Insurance All é uma empresa que fornece seguro de saúde para seus clientes e o time de produtos está analisando a possibilidade de oferecer aos assegurados, um novo produto: Um seguro de automóveis.\n",
    "\n",
    "Assim como o seguro de saúde, os clientes desse novo plano de seguro de automóveis precisam pagar um valor anualmente à Insurance All para obter um valor assegurado pela empresa, destinado aos custos de um eventual acidente ou dano ao veículo.\n",
    "\n",
    "A Insurance All fez uma pesquisa com cerca de 380 mil clientes sobre o interesse em aderir a um novo produto de seguro de automóveis, no ano passado. Todos os clientes demonstraram interesse ou não em adquirir o seguro de automóvel e essas respostas ficaram salvas em um banco de dados junto com outros atributos dos clientes.\n",
    "\n",
    "O time de produtos selecionou 127 mil novos clientes que não responderam a pesquisa para participar de uma campanha, no qual receberão a oferta do novo produto de seguro de automóveis. A oferta será feita pelo time de vendas através de ligações telefônicas.\n",
    "\n",
    "Contudo, o time de vendas tem uma capacidade de realizar 20 mil ligações dentro do período da campanha."
   ]
  },
  {
   "cell_type": "markdown",
   "id": "34746f0c",
   "metadata": {},
   "source": [
    "## O Desafio"
   ]
  },
  {
   "cell_type": "markdown",
   "id": "1adcd4f8",
   "metadata": {},
   "source": [
    "Nesse contexto, você foi contratado como um consultor de Ciência de Dados para construir um modelo que prediz se o cliente estaria ou não interessado no seguro de automóvel. \n",
    "\n",
    "Com a sua solução, o time de vendas espera conseguir priorizar as pessoas com maior interesse no novo produto e assim, otimizar a campanha realizando apenas contatos aos clientes mais propensos a realizar a compra.\n",
    "\n",
    "Como resultado da sua consultoria, você precisará entregar um relatório contendo algumas análises e respostas às seguintes perguntas:\n",
    "\n",
    "1. Principais Insights sobre os atributos mais relevantes de clientes interessados em adquirir um seguro de automóvel.\n",
    "2. Qual a porcentagem de clientes interessados em adquirir um seguro de automóvel, o time de vendas conseguirá contatar fazendo 20.000 ligações?\n",
    "3. E se a capacidade do time de vendas aumentar para 40.000 ligações, qual a porcentagem de clientes interessados em adquirir um seguro de automóvel o time de vendas conseguirá contatar?\n",
    "4. Quantas ligações o time de vendas precisa fazer para contatar 80% dos clientes interessados em adquirir um seguro de automóvel?"
   ]
  },
  {
   "cell_type": "markdown",
   "id": "71bd7be6",
   "metadata": {},
   "source": [
    "## Dicionário de Dados"
   ]
  },
  {
   "cell_type": "markdown",
   "id": "c51574e4",
   "metadata": {},
   "source": [
    "Id: identificador único do cliente.\n",
    "\n",
    "Gender: gênero do cliente.\n",
    "\n",
    "Age: idade do cliente.\n",
    "\n",
    "Driving License: 0, o cliente não tem permissão para dirigir e 1, o cliente tem para dirigir ( CNH – Carteira Nacional de Habilitação )\n",
    "\n",
    "Region Code: código da região do cliente.\n",
    "\n",
    "Previously Insured: 0, o cliente não tem seguro de automóvel e 1, o cliente já tem seguro de automóvel.\n",
    "\n",
    "Vehicle Age: idade do veículo.\n",
    "\n",
    "Vehicle Damage: 0, cliente nunca teve seu veículo danificado no passado e 1, cliente já teve seu veículo danificado no passado.\n",
    "\n",
    "Anual Premium: quantidade que o cliente pagou à empresa pelo seguro de saúde anual.\n",
    "\n",
    "Policy sales channel: código anônimo para o canal de contato com o cliente.\n",
    "\n",
    "Vintage: número de dias que o cliente se associou à empresa através da compra do seguro de saúde.\n",
    "\n",
    "Response: 0, o cliente não tem interesse e 1, o cliente tem interesse.\n"
   ]
  },
  {
   "cell_type": "markdown",
   "id": "eb17c1a5",
   "metadata": {},
   "source": [
    "## Estudo sobre o Modelo de Negócio"
   ]
  },
  {
   "cell_type": "markdown",
   "id": "59cd0050",
   "metadata": {},
   "source": [
    "Um modelo de negócio descreve a lógica de criação, entrega e captura valor por parte de uma organização.\n",
    "\n",
    "Empresa Seguradora:\n",
    "\n",
    "    Como aumentar o faturamento? \n",
    "        Aumentar o número de vendas\n",
    "        Aumentar o valor do ticket\n",
    "        Aumentar a frequência de compra do cliente ( comprar mais produtos )\n",
    "        \n",
    "    Custos:\n",
    "        Custo da operação (funcionários, ferramentas)\n",
    "        Custo de produção de produto\n",
    "        Custo de aquisição de cliente (CAC)\n",
    "        \n",
    "    Aumentar número de vendas\n",
    "        Up-Sell:\n",
    "            incentivar o cliente a adquirir a versão mais sofisticada do produto (iphone 11 -> 12)\n",
    "            \n",
    "        Cross-Sell:\n",
    "            Vender produtos ou serviços relacionados/complementares -> vender um smartphone e uma case\n",
    "            \n",
    "            \n",
    "     A estratégia de Cross-Sell\n",
    "         Quais clientes deveriam receber a oferta de Cross-Sell -> Calculo da probabilidade de compra\n",
    "         Priorizar clientes que tem maior probabilidade de compra\n",
    "         \n",
    "Planejamento da Solução\n",
    "\n",
    "Full dataset - 381K\n",
    "    Training Data - 305K\n",
    "    Validation Data - 76K\n",
    "    \n",
    "Calcular a probabilidade de compra\n",
    "\n",
    "Teste Data - 127K\n",
    "\n",
    "Calcular a probabilidade de compra\n",
    "            \n",
    "    \n",
    "            \n",
    "            "
   ]
  },
  {
   "cell_type": "markdown",
   "id": "570c8e66",
   "metadata": {},
   "source": [
    "# IMPORTS"
   ]
  },
  {
   "cell_type": "code",
   "execution_count": 1,
   "id": "db3c6a1b",
   "metadata": {
    "ExecuteTime": {
     "end_time": "2021-10-07T19:46:05.885138Z",
     "start_time": "2021-10-07T19:46:05.645440Z"
    }
   },
   "outputs": [],
   "source": [
    "import inflection\n",
    "\n",
    "import numpy as np\n",
    "import pandas as pd\n",
    "\n",
    "pd.set_option('display.float_format', lambda x: '%.2f' % x)"
   ]
  },
  {
   "cell_type": "markdown",
   "id": "273bc0d0",
   "metadata": {},
   "source": [
    "# LOADING DATA"
   ]
  },
  {
   "cell_type": "code",
   "execution_count": 2,
   "id": "42ad3ff2",
   "metadata": {
    "ExecuteTime": {
     "end_time": "2021-10-07T19:46:06.195757Z",
     "start_time": "2021-10-07T19:46:05.886343Z"
    }
   },
   "outputs": [],
   "source": [
    "df_raw = pd.read_csv('datasets/train.csv')"
   ]
  },
  {
   "cell_type": "markdown",
   "id": "88c4a5f6",
   "metadata": {},
   "source": [
    "# DATA DESCRIPTION"
   ]
  },
  {
   "cell_type": "markdown",
   "id": "b75c26a0",
   "metadata": {},
   "source": [
    "## Head"
   ]
  },
  {
   "cell_type": "code",
   "execution_count": 3,
   "id": "2a31757a",
   "metadata": {
    "ExecuteTime": {
     "end_time": "2021-10-07T19:46:06.212537Z",
     "start_time": "2021-10-07T19:46:06.196893Z"
    }
   },
   "outputs": [
    {
     "data": {
      "text/html": [
       "<div>\n",
       "<style scoped>\n",
       "    .dataframe tbody tr th:only-of-type {\n",
       "        vertical-align: middle;\n",
       "    }\n",
       "\n",
       "    .dataframe tbody tr th {\n",
       "        vertical-align: top;\n",
       "    }\n",
       "\n",
       "    .dataframe thead th {\n",
       "        text-align: right;\n",
       "    }\n",
       "</style>\n",
       "<table border=\"1\" class=\"dataframe\">\n",
       "  <thead>\n",
       "    <tr style=\"text-align: right;\">\n",
       "      <th></th>\n",
       "      <th>id</th>\n",
       "      <th>Gender</th>\n",
       "      <th>Age</th>\n",
       "      <th>Driving_License</th>\n",
       "      <th>Region_Code</th>\n",
       "      <th>Previously_Insured</th>\n",
       "      <th>Vehicle_Age</th>\n",
       "      <th>Vehicle_Damage</th>\n",
       "      <th>Annual_Premium</th>\n",
       "      <th>Policy_Sales_Channel</th>\n",
       "      <th>Vintage</th>\n",
       "      <th>Response</th>\n",
       "    </tr>\n",
       "  </thead>\n",
       "  <tbody>\n",
       "    <tr>\n",
       "      <th>0</th>\n",
       "      <td>1</td>\n",
       "      <td>Male</td>\n",
       "      <td>44</td>\n",
       "      <td>1</td>\n",
       "      <td>28.00</td>\n",
       "      <td>0</td>\n",
       "      <td>&gt; 2 Years</td>\n",
       "      <td>Yes</td>\n",
       "      <td>40454.00</td>\n",
       "      <td>26.00</td>\n",
       "      <td>217</td>\n",
       "      <td>1</td>\n",
       "    </tr>\n",
       "    <tr>\n",
       "      <th>1</th>\n",
       "      <td>2</td>\n",
       "      <td>Male</td>\n",
       "      <td>76</td>\n",
       "      <td>1</td>\n",
       "      <td>3.00</td>\n",
       "      <td>0</td>\n",
       "      <td>1-2 Year</td>\n",
       "      <td>No</td>\n",
       "      <td>33536.00</td>\n",
       "      <td>26.00</td>\n",
       "      <td>183</td>\n",
       "      <td>0</td>\n",
       "    </tr>\n",
       "    <tr>\n",
       "      <th>2</th>\n",
       "      <td>3</td>\n",
       "      <td>Male</td>\n",
       "      <td>47</td>\n",
       "      <td>1</td>\n",
       "      <td>28.00</td>\n",
       "      <td>0</td>\n",
       "      <td>&gt; 2 Years</td>\n",
       "      <td>Yes</td>\n",
       "      <td>38294.00</td>\n",
       "      <td>26.00</td>\n",
       "      <td>27</td>\n",
       "      <td>1</td>\n",
       "    </tr>\n",
       "    <tr>\n",
       "      <th>3</th>\n",
       "      <td>4</td>\n",
       "      <td>Male</td>\n",
       "      <td>21</td>\n",
       "      <td>1</td>\n",
       "      <td>11.00</td>\n",
       "      <td>1</td>\n",
       "      <td>&lt; 1 Year</td>\n",
       "      <td>No</td>\n",
       "      <td>28619.00</td>\n",
       "      <td>152.00</td>\n",
       "      <td>203</td>\n",
       "      <td>0</td>\n",
       "    </tr>\n",
       "    <tr>\n",
       "      <th>4</th>\n",
       "      <td>5</td>\n",
       "      <td>Female</td>\n",
       "      <td>29</td>\n",
       "      <td>1</td>\n",
       "      <td>41.00</td>\n",
       "      <td>1</td>\n",
       "      <td>&lt; 1 Year</td>\n",
       "      <td>No</td>\n",
       "      <td>27496.00</td>\n",
       "      <td>152.00</td>\n",
       "      <td>39</td>\n",
       "      <td>0</td>\n",
       "    </tr>\n",
       "  </tbody>\n",
       "</table>\n",
       "</div>"
      ],
      "text/plain": [
       "   id  Gender  Age  Driving_License  Region_Code  Previously_Insured  \\\n",
       "0   1    Male   44                1        28.00                   0   \n",
       "1   2    Male   76                1         3.00                   0   \n",
       "2   3    Male   47                1        28.00                   0   \n",
       "3   4    Male   21                1        11.00                   1   \n",
       "4   5  Female   29                1        41.00                   1   \n",
       "\n",
       "  Vehicle_Age Vehicle_Damage  Annual_Premium  Policy_Sales_Channel  Vintage  \\\n",
       "0   > 2 Years            Yes        40454.00                 26.00      217   \n",
       "1    1-2 Year             No        33536.00                 26.00      183   \n",
       "2   > 2 Years            Yes        38294.00                 26.00       27   \n",
       "3    < 1 Year             No        28619.00                152.00      203   \n",
       "4    < 1 Year             No        27496.00                152.00       39   \n",
       "\n",
       "   Response  \n",
       "0         1  \n",
       "1         0  \n",
       "2         1  \n",
       "3         0  \n",
       "4         0  "
      ]
     },
     "execution_count": 3,
     "metadata": {},
     "output_type": "execute_result"
    }
   ],
   "source": [
    "df_raw.head()"
   ]
  },
  {
   "cell_type": "markdown",
   "id": "42ef5b8d",
   "metadata": {},
   "source": [
    "## Dimensions "
   ]
  },
  {
   "cell_type": "code",
   "execution_count": 4,
   "id": "4f32c78b",
   "metadata": {
    "ExecuteTime": {
     "end_time": "2021-10-07T19:46:06.221511Z",
     "start_time": "2021-10-07T19:46:06.214824Z"
    }
   },
   "outputs": [
    {
     "data": {
      "text/plain": [
       "(381109, 12)"
      ]
     },
     "execution_count": 4,
     "metadata": {},
     "output_type": "execute_result"
    }
   ],
   "source": [
    "df_raw.shape"
   ]
  },
  {
   "cell_type": "markdown",
   "id": "e833e61f",
   "metadata": {},
   "source": [
    "## Rename Columns"
   ]
  },
  {
   "cell_type": "code",
   "execution_count": 5,
   "id": "02ed91bf",
   "metadata": {
    "ExecuteTime": {
     "end_time": "2021-10-07T19:46:06.225995Z",
     "start_time": "2021-10-07T19:46:06.222599Z"
    }
   },
   "outputs": [],
   "source": [
    "cols_old = ['id', 'Gender', 'Age', 'Driving_License', 'Region_Code', 'Previously_Insured', 'Vehicle_Age', \n",
    "            'Vehicle_Damage', 'Annual_Premium', 'Policy_Sales_Channel', 'Vintage', 'Response']\n",
    "\n",
    "snakecase = lambda x: inflection.underscore( x )\n",
    "\n",
    "cols_new = list(map(snakecase, cols_old))\n",
    "df_raw.columns = cols_new"
   ]
  },
  {
   "cell_type": "markdown",
   "id": "ef37acee",
   "metadata": {},
   "source": [
    "## Columns "
   ]
  },
  {
   "cell_type": "code",
   "execution_count": 6,
   "id": "d9762c32",
   "metadata": {
    "ExecuteTime": {
     "end_time": "2021-10-07T19:46:06.235226Z",
     "start_time": "2021-10-07T19:46:06.226904Z"
    }
   },
   "outputs": [
    {
     "data": {
      "text/plain": [
       "Index(['id', 'gender', 'age', 'driving_license', 'region_code',\n",
       "       'previously_insured', 'vehicle_age', 'vehicle_damage', 'annual_premium',\n",
       "       'policy_sales_channel', 'vintage', 'response'],\n",
       "      dtype='object')"
      ]
     },
     "execution_count": 6,
     "metadata": {},
     "output_type": "execute_result"
    }
   ],
   "source": [
    "df_raw.columns"
   ]
  },
  {
   "cell_type": "markdown",
   "id": "ae98e5d2",
   "metadata": {},
   "source": [
    "## Dtypes"
   ]
  },
  {
   "cell_type": "code",
   "execution_count": 7,
   "id": "df36e1ed",
   "metadata": {
    "ExecuteTime": {
     "end_time": "2021-10-07T19:46:06.242040Z",
     "start_time": "2021-10-07T19:46:06.236368Z"
    }
   },
   "outputs": [
    {
     "data": {
      "text/plain": [
       "id                        int64\n",
       "gender                   object\n",
       "age                       int64\n",
       "driving_license           int64\n",
       "region_code             float64\n",
       "previously_insured        int64\n",
       "vehicle_age              object\n",
       "vehicle_damage           object\n",
       "annual_premium          float64\n",
       "policy_sales_channel    float64\n",
       "vintage                   int64\n",
       "response                  int64\n",
       "dtype: object"
      ]
     },
     "execution_count": 7,
     "metadata": {},
     "output_type": "execute_result"
    }
   ],
   "source": [
    "df_raw.dtypes"
   ]
  },
  {
   "cell_type": "markdown",
   "id": "e70460e0",
   "metadata": {},
   "source": [
    "## Check NA"
   ]
  },
  {
   "cell_type": "code",
   "execution_count": 8,
   "id": "e21300aa",
   "metadata": {
    "ExecuteTime": {
     "end_time": "2021-10-07T19:46:06.307871Z",
     "start_time": "2021-10-07T19:46:06.243826Z"
    }
   },
   "outputs": [
    {
     "data": {
      "text/plain": [
       "id                      0\n",
       "gender                  0\n",
       "age                     0\n",
       "driving_license         0\n",
       "region_code             0\n",
       "previously_insured      0\n",
       "vehicle_age             0\n",
       "vehicle_damage          0\n",
       "annual_premium          0\n",
       "policy_sales_channel    0\n",
       "vintage                 0\n",
       "response                0\n",
       "dtype: int64"
      ]
     },
     "execution_count": 8,
     "metadata": {},
     "output_type": "execute_result"
    }
   ],
   "source": [
    "df_raw.isna().sum()"
   ]
  },
  {
   "cell_type": "markdown",
   "id": "a3bc3a91",
   "metadata": {},
   "source": [
    "## Estatística Descritiva"
   ]
  },
  {
   "cell_type": "markdown",
   "id": "229fea2c",
   "metadata": {},
   "source": [
    "### Numerical Attributes"
   ]
  },
  {
   "cell_type": "code",
   "execution_count": 9,
   "id": "03aab6d8",
   "metadata": {
    "ExecuteTime": {
     "end_time": "2021-10-07T19:46:06.668377Z",
     "start_time": "2021-10-07T19:46:06.309014Z"
    }
   },
   "outputs": [
    {
     "data": {
      "text/html": [
       "<div>\n",
       "<style scoped>\n",
       "    .dataframe tbody tr th:only-of-type {\n",
       "        vertical-align: middle;\n",
       "    }\n",
       "\n",
       "    .dataframe tbody tr th {\n",
       "        vertical-align: top;\n",
       "    }\n",
       "\n",
       "    .dataframe thead th {\n",
       "        text-align: right;\n",
       "    }\n",
       "</style>\n",
       "<table border=\"1\" class=\"dataframe\">\n",
       "  <thead>\n",
       "    <tr style=\"text-align: right;\">\n",
       "      <th></th>\n",
       "      <th>attributes</th>\n",
       "      <th>min</th>\n",
       "      <th>max</th>\n",
       "      <th>range</th>\n",
       "      <th>mean</th>\n",
       "      <th>median</th>\n",
       "      <th>std</th>\n",
       "      <th>skew</th>\n",
       "      <th>kurtosis</th>\n",
       "    </tr>\n",
       "  </thead>\n",
       "  <tbody>\n",
       "    <tr>\n",
       "      <th>0</th>\n",
       "      <td>age</td>\n",
       "      <td>20.00</td>\n",
       "      <td>85.00</td>\n",
       "      <td>65.00</td>\n",
       "      <td>38.82</td>\n",
       "      <td>36.00</td>\n",
       "      <td>15.51</td>\n",
       "      <td>0.67</td>\n",
       "      <td>-0.57</td>\n",
       "    </tr>\n",
       "    <tr>\n",
       "      <th>1</th>\n",
       "      <td>driving_license</td>\n",
       "      <td>0.00</td>\n",
       "      <td>1.00</td>\n",
       "      <td>1.00</td>\n",
       "      <td>1.00</td>\n",
       "      <td>1.00</td>\n",
       "      <td>0.05</td>\n",
       "      <td>-21.60</td>\n",
       "      <td>464.35</td>\n",
       "    </tr>\n",
       "    <tr>\n",
       "      <th>2</th>\n",
       "      <td>previously_insured</td>\n",
       "      <td>0.00</td>\n",
       "      <td>1.00</td>\n",
       "      <td>1.00</td>\n",
       "      <td>0.46</td>\n",
       "      <td>0.00</td>\n",
       "      <td>0.50</td>\n",
       "      <td>0.17</td>\n",
       "      <td>-1.97</td>\n",
       "    </tr>\n",
       "    <tr>\n",
       "      <th>3</th>\n",
       "      <td>annual_premium</td>\n",
       "      <td>2630.00</td>\n",
       "      <td>540165.00</td>\n",
       "      <td>537535.00</td>\n",
       "      <td>30564.39</td>\n",
       "      <td>31669.00</td>\n",
       "      <td>17213.13</td>\n",
       "      <td>1.77</td>\n",
       "      <td>34.00</td>\n",
       "    </tr>\n",
       "    <tr>\n",
       "      <th>4</th>\n",
       "      <td>vintage</td>\n",
       "      <td>10.00</td>\n",
       "      <td>299.00</td>\n",
       "      <td>289.00</td>\n",
       "      <td>154.35</td>\n",
       "      <td>154.00</td>\n",
       "      <td>83.67</td>\n",
       "      <td>0.00</td>\n",
       "      <td>-1.20</td>\n",
       "    </tr>\n",
       "    <tr>\n",
       "      <th>5</th>\n",
       "      <td>response</td>\n",
       "      <td>0.00</td>\n",
       "      <td>1.00</td>\n",
       "      <td>1.00</td>\n",
       "      <td>0.12</td>\n",
       "      <td>0.00</td>\n",
       "      <td>0.33</td>\n",
       "      <td>2.30</td>\n",
       "      <td>3.30</td>\n",
       "    </tr>\n",
       "  </tbody>\n",
       "</table>\n",
       "</div>"
      ],
      "text/plain": [
       "           attributes     min       max     range     mean   median      std  \\\n",
       "0                 age   20.00     85.00     65.00    38.82    36.00    15.51   \n",
       "1     driving_license    0.00      1.00      1.00     1.00     1.00     0.05   \n",
       "2  previously_insured    0.00      1.00      1.00     0.46     0.00     0.50   \n",
       "3      annual_premium 2630.00 540165.00 537535.00 30564.39 31669.00 17213.13   \n",
       "4             vintage   10.00    299.00    289.00   154.35   154.00    83.67   \n",
       "5            response    0.00      1.00      1.00     0.12     0.00     0.33   \n",
       "\n",
       "    skew  kurtosis  \n",
       "0   0.67     -0.57  \n",
       "1 -21.60    464.35  \n",
       "2   0.17     -1.97  \n",
       "3   1.77     34.00  \n",
       "4   0.00     -1.20  \n",
       "5   2.30      3.30  "
      ]
     },
     "execution_count": 9,
     "metadata": {},
     "output_type": "execute_result"
    }
   ],
   "source": [
    "num_attributes = df_raw.select_dtypes(include=['int64', 'float64']).drop(columns=['id', 'region_code', 'policy_sales_channel'])\n",
    "\n",
    "#Central Tendecy - Mean, Median\n",
    "ct1 = pd.DataFrame(num_attributes.apply(np.mean)).T\n",
    "ct2 = pd.DataFrame(num_attributes.apply(np.median)).T\n",
    "\n",
    "#Dispersion - std, min, max, range, skew, kurtosis\n",
    "d1 = pd.DataFrame( num_attributes.apply( np.std ) ).T\n",
    "d2 = pd.DataFrame( num_attributes.apply( min ) ).T\n",
    "d3 = pd.DataFrame( num_attributes.apply( max ) ).T\n",
    "d4 = pd.DataFrame( num_attributes.apply( lambda x: x.max() - x.min() ) ).T\n",
    "d5 = pd.DataFrame( num_attributes.apply( lambda x: x.skew() ) ).T\n",
    "d6 = pd.DataFrame( num_attributes.apply( lambda x: x.kurtosis() ) ).T\n",
    "\n",
    "#concat\n",
    "m = pd.concat( [d2, d3, d4, ct1, ct2, d1, d5, d6]).T.reset_index()\n",
    "m.columns = ['attributes', 'min','max','range','mean','median','std','skew','kurtosis']\n",
    "m"
   ]
  },
  {
   "cell_type": "markdown",
   "id": "c1c9fb9b",
   "metadata": {},
   "source": [
    "Age: idade do cliente.\n",
    "\n",
    "Driving License: 0, o cliente não tem permissão para dirigir e 1, o cliente tem para dirigir ( CNH – Carteira Nacional de Habilitação )\n",
    "\n",
    "Previously Insured: 0, o cliente não tem seguro de automóvel e 1, o cliente já tem seguro de automóvel.\n",
    "\n",
    "Vehicle Age: idade do veículo.\n",
    "\n",
    "Vehicle Damage: 0, cliente nunca teve seu veículo danificado no passado e 1, cliente já teve seu veículo danificado no passado.\n",
    "\n",
    "Anual Premium: quantidade que o cliente pagou à empresa pelo seguro de saúde anual.\n",
    "\n",
    "Vintage: número de dias que o cliente se associou à empresa através da compra do seguro de saúde.\n",
    "\n",
    "Response: 0, o cliente não tem interesse e 1, o cliente tem interesse.\n"
   ]
  },
  {
   "cell_type": "markdown",
   "id": "b03f88fe",
   "metadata": {},
   "source": [
    "# FEATURE ENGINEERING"
   ]
  },
  {
   "cell_type": "code",
   "execution_count": 22,
   "id": "dba9c473",
   "metadata": {
    "ExecuteTime": {
     "end_time": "2021-10-07T19:52:27.055422Z",
     "start_time": "2021-10-07T19:52:27.028294Z"
    }
   },
   "outputs": [],
   "source": [
    "df2 = df_raw.copy()"
   ]
  },
  {
   "cell_type": "markdown",
   "id": "ad94d4ee",
   "metadata": {},
   "source": [
    "## Vehicle_age"
   ]
  },
  {
   "cell_type": "code",
   "execution_count": 24,
   "id": "c64f6afd",
   "metadata": {
    "ExecuteTime": {
     "end_time": "2021-10-07T19:52:29.971460Z",
     "start_time": "2021-10-07T19:52:29.905722Z"
    }
   },
   "outputs": [],
   "source": [
    "df2['vehicle_age'] = df2['vehicle_age'].apply(lambda x: 'over_2_years' if x == '> 2 Years' else 'between_1_2_year' if x == '1-2 Year' else 'below_1_year')"
   ]
  },
  {
   "cell_type": "markdown",
   "id": "34525105",
   "metadata": {},
   "source": [
    "## Vehicle Damage"
   ]
  },
  {
   "cell_type": "code",
   "execution_count": 25,
   "id": "43da0c2a",
   "metadata": {
    "ExecuteTime": {
     "end_time": "2021-10-07T19:52:30.819669Z",
     "start_time": "2021-10-07T19:52:30.705451Z"
    }
   },
   "outputs": [],
   "source": [
    "df2['vehicle_damage'] = df2['vehicle_damage'].apply(lambda x: 1 if x == 'Yes' else 0)"
   ]
  }
 ],
 "metadata": {
  "kernelspec": {
   "display_name": "Python 3 (ipykernel)",
   "language": "python",
   "name": "python3"
  },
  "language_info": {
   "codemirror_mode": {
    "name": "ipython",
    "version": 3
   },
   "file_extension": ".py",
   "mimetype": "text/x-python",
   "name": "python",
   "nbconvert_exporter": "python",
   "pygments_lexer": "ipython3",
   "version": "3.8.10"
  },
  "toc": {
   "base_numbering": 1,
   "nav_menu": {},
   "number_sections": true,
   "sideBar": true,
   "skip_h1_title": false,
   "title_cell": "Table of Contents",
   "title_sidebar": "Contents",
   "toc_cell": false,
   "toc_position": {},
   "toc_section_display": true,
   "toc_window_display": false
  }
 },
 "nbformat": 4,
 "nbformat_minor": 5
}
